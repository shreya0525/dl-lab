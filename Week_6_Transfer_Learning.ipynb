{
  "nbformat": 4,
  "nbformat_minor": 0,
  "metadata": {
    "colab": {
      "provenance": [],
      "gpuType": "T4"
    },
    "kernelspec": {
      "name": "python3",
      "display_name": "Python 3"
    },
    "language_info": {
      "name": "python"
    },
    "accelerator": "GPU"
  },
  "cells": [
    {
      "cell_type": "markdown",
      "source": [
        "**Week-6: Transfer Learning**\n",
        "\n",
        "Implement the standard LeNet, AlexNet, VGG CNN architecture model to classify multicategory image dataset.\n",
        "\n",
        "MNIST handwritten digits (0-9)\n",
        "\n",
        "Note down accuracies obtained for epochs 5, 50, 250.\n",
        "\n"
      ],
      "metadata": {
        "id": "ekwD80pbaA3a"
      }
    },
    {
      "cell_type": "code",
      "source": [
        "import tensorflow as tf\n",
        "from tensorflow.keras import layers, models\n",
        "from tensorflow.keras.datasets import mnist\n",
        "from tensorflow.keras.utils import to_categorical\n",
        "import numpy as np\n",
        "\n",
        "# Load and preprocess MNIST\n",
        "(x_train, y_train), (x_test, y_test) = mnist.load_data()\n",
        "\n",
        "# Reshape and normalize\n",
        "x_train = x_train.reshape(-1, 28, 28, 1).astype('float32') / 255.0\n",
        "x_test = x_test.reshape(-1, 28, 28, 1).astype('float32') / 255.0\n",
        "\n",
        "# One-hot encode labels\n",
        "y_train = to_categorical(y_train, 10)\n",
        "y_test = to_categorical(y_test, 10)"
      ],
      "metadata": {
        "colab": {
          "base_uri": "https://localhost:8080/"
        },
        "id": "smRgu2Xghzbj",
        "outputId": "3dd3b5d2-1ac7-4f01-a56f-e170162b5d17"
      },
      "execution_count": 10,
      "outputs": [
        {
          "output_type": "stream",
          "name": "stdout",
          "text": [
            "Downloading data from https://storage.googleapis.com/tensorflow/tf-keras-datasets/mnist.npz\n",
            "\u001b[1m11490434/11490434\u001b[0m \u001b[32m━━━━━━━━━━━━━━━━━━━━\u001b[0m\u001b[37m\u001b[0m \u001b[1m1s\u001b[0m 0us/step\n"
          ]
        }
      ]
    },
    {
      "cell_type": "code",
      "source": [
        "def build_lenet():\n",
        "    model = models.Sequential([\n",
        "        layers.Input(shape=(28, 28, 1)),  # Replaces input_shape in Conv2D\n",
        "        layers.Conv2D(6, (5, 5), activation='tanh', padding='same'),\n",
        "        layers.AveragePooling2D(pool_size=(2, 2)),  # FIX: added pool_size\n",
        "        layers.Conv2D(16, (5, 5), activation='tanh'),\n",
        "        layers.AveragePooling2D(pool_size=(2, 2)),  # FIX: added pool_size\n",
        "        layers.Flatten(),\n",
        "        layers.Dense(120, activation='tanh'),\n",
        "        layers.Dense(84, activation='tanh'),\n",
        "        layers.Dense(10, activation='softmax')\n",
        "    ])\n",
        "    return model"
      ],
      "metadata": {
        "id": "XQvbdyqghziR"
      },
      "execution_count": 16,
      "outputs": []
    },
    {
      "cell_type": "code",
      "source": [
        "def build_alexnet():\n",
        "    model = models.Sequential([\n",
        "        layers.Input(shape=(28, 28, 1)),  # NEW\n",
        "        layers.Conv2D(96, (3, 3), activation='relu', padding='same'),\n",
        "        layers.MaxPooling2D(pool_size=(2, 2)),\n",
        "        layers.Conv2D(256, (3, 3), activation='relu', padding='same'),\n",
        "        layers.MaxPooling2D(pool_size=(2, 2)),\n",
        "        layers.Conv2D(384, (3, 3), activation='relu', padding='same'),\n",
        "        layers.Conv2D(384, (3, 3), activation='relu', padding='same'),\n",
        "        layers.Conv2D(256, (3, 3), activation='relu', padding='same'),\n",
        "        layers.MaxPooling2D(pool_size=(2, 2)),\n",
        "        layers.Flatten(),\n",
        "        layers.Dense(4096, activation='relu'),\n",
        "        layers.Dropout(0.5),\n",
        "        layers.Dense(4096, activation='relu'),\n",
        "        layers.Dropout(0.5),\n",
        "        layers.Dense(10, activation='softmax')\n",
        "    ])\n",
        "    return model"
      ],
      "metadata": {
        "id": "WsL2m4BshznN"
      },
      "execution_count": 17,
      "outputs": []
    },
    {
      "cell_type": "code",
      "source": [
        "def build_vgg():\n",
        "    model = models.Sequential([\n",
        "        layers.Input(shape=(28, 28, 1)),  # NEW\n",
        "        layers.Conv2D(64, (3, 3), activation='relu', padding='same'),\n",
        "        layers.MaxPooling2D(),\n",
        "        layers.Conv2D(128, (3, 3), activation='relu', padding='same'),\n",
        "        layers.MaxPooling2D(),\n",
        "        layers.Conv2D(256, (3, 3), activation='relu', padding='same'),\n",
        "        layers.MaxPooling2D(),\n",
        "        layers.Flatten(),\n",
        "        layers.Dense(256, activation='relu'),\n",
        "        layers.Dropout(0.5),\n",
        "        layers.Dense(10, activation='softmax')\n",
        "    ])\n",
        "    return model"
      ],
      "metadata": {
        "id": "JU4YDn1ohzsa"
      },
      "execution_count": 18,
      "outputs": []
    },
    {
      "cell_type": "code",
      "source": [
        "def train_and_log(model_fn, model_name):\n",
        "    model = model_fn()\n",
        "    model.compile(optimizer='adam', loss='categorical_crossentropy', metrics=['accuracy'])\n",
        "\n",
        "    class AccuracyLogger(tf.keras.callbacks.Callback):\n",
        "        def __init__(self):\n",
        "            self.accuracies = {}\n",
        "\n",
        "        def on_epoch_end(self, epoch, logs=None):\n",
        "            if epoch + 1 in [5, 15, 25]:\n",
        "                self.accuracies[epoch + 1] = logs[\"val_accuracy\"]\n",
        "\n",
        "    logger = AccuracyLogger()\n",
        "\n",
        "    model.fit(\n",
        "        x_train, y_train,\n",
        "        epochs=25,\n",
        "        batch_size=128,\n",
        "        validation_data=(x_test, y_test),\n",
        "        verbose=0,\n",
        "        callbacks=[logger]\n",
        "    )\n",
        "\n",
        "    print(f\"{model_name} Accuracies:\")\n",
        "    for epoch in [5, 15, 25]:\n",
        "        acc = logger.accuracies.get(epoch, None)\n",
        "        print(f\"Epoch {epoch}: {acc:.4f}\" if acc is not None else f\"Epoch {epoch}: Not recorded\")"
      ],
      "metadata": {
        "id": "uC2CyqUghzxH"
      },
      "execution_count": 14,
      "outputs": []
    },
    {
      "cell_type": "code",
      "source": [
        "train_and_log(build_lenet, \"LeNet\")\n",
        "train_and_log(build_alexnet, \"AlexNet\")\n",
        "train_and_log(build_vgg, \"VGG\")"
      ],
      "metadata": {
        "colab": {
          "base_uri": "https://localhost:8080/"
        },
        "id": "_rerOBPnhz5k",
        "outputId": "77395583-d174-4701-a2e3-ce5f455301dc"
      },
      "execution_count": 19,
      "outputs": [
        {
          "output_type": "stream",
          "name": "stdout",
          "text": [
            "LeNet Accuracies:\n",
            "Epoch 5: 0.9827\n",
            "Epoch 15: 0.9872\n",
            "Epoch 25: 0.9862\n",
            "AlexNet Accuracies:\n",
            "Epoch 5: 0.9855\n",
            "Epoch 15: 0.9893\n",
            "Epoch 25: 0.9899\n",
            "VGG Accuracies:\n",
            "Epoch 5: 0.9925\n",
            "Epoch 15: 0.9925\n",
            "Epoch 25: 0.9928\n"
          ]
        }
      ]
    }
  ]
}