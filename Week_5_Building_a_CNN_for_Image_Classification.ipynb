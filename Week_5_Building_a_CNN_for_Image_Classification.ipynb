{
  "nbformat": 4,
  "nbformat_minor": 0,
  "metadata": {
    "colab": {
      "provenance": []
    },
    "kernelspec": {
      "name": "python3",
      "display_name": "Python 3"
    },
    "language_info": {
      "name": "python"
    }
  },
  "cells": [
    {
      "cell_type": "markdown",
      "source": [
        "Week - 5  Building a CNN for Image Classification\n",
        "\n",
        "Design and implement a CNN model (with 4+ layers of convolutions) to classify multi category image datasets. Use the concept of regularization and dropout while designing the CNN model.\n",
        "\n",
        "Use CIFAR-10 dataset.\n",
        "\n",
        "Record the Training accuracy and Test accuracy corresponding to the following architectures:\n",
        "\n",
        "       a. Base Model\n",
        "\n",
        "       b. Model with L1 Regularization\n",
        "\n",
        "       c. Model with L2 Regularization\n",
        "\n",
        "       d. Model with Dropout\n",
        "\n",
        "       e. Model with both L2 (or L1) and Dropout"
      ],
      "metadata": {
        "id": "Bg9Atdy1ZVUY"
      }
    },
    {
      "cell_type": "markdown",
      "source": [
        "Dataset:  https://www.kaggle.com/c/cifar-10/"
      ],
      "metadata": {
        "id": "DP5E-GVYhn7U"
      }
    },
    {
      "cell_type": "markdown",
      "source": [
        "**Base Model:**"
      ],
      "metadata": {
        "id": "GNKVym26c0Hy"
      }
    },
    {
      "cell_type": "code",
      "source": [
        "import keras\n",
        "\n",
        "from keras.datasets import cifar10\n",
        "from keras.layers import Dense, Activation, Flatten, Conv2D, MaxPooling2D\n",
        "from keras.models import Sequential\n",
        "from keras.utils import to_categorical\n",
        "import numpy as np\n",
        "import matplotlib.pyplot as plt\n",
        "(train_X,train_Y), (test_X,test_Y) = cifar10.load_data()\n",
        "train_X = train_X.reshape(-1, 28,28, 1)\n",
        "test_X = test_X.reshape(-1, 28,28, 1)\n",
        "train_X = train_X.astype('float32')\n",
        "test_X = test_X.astype('float32')\n",
        "train_X = train_X / 255\n",
        "test_X = test_X / 255\n",
        "train_Y_one_hot = to_categorical(train_Y)\n",
        "test_Y_one_hot = to_categorical(test_Y)\n",
        "model = Sequential()\n",
        "model.add(Conv2D(256, (3,3), input_shape=(28, 28, 1)))\n",
        "model.add(Activation('relu'))\n",
        "model.add(MaxPooling2D(pool_size=(2,2)))\n",
        "model.add(Conv2D(128, (3,3)))\n",
        "model.add(Activation('relu'))\n",
        "model.add(MaxPooling2D(pool_size=(2,2)))\n",
        "model.add(Conv2D(64, (3,3), input_shape=(28, 28, 1)))\n",
        "model.add(Activation('relu'))\n",
        "#model.add(MaxPooling2D(pool_size=(2,2)))\n",
        "model.add(Conv2D(28, (3,3)))\n",
        "model.add(Activation('relu'))\n",
        "#model.add(MaxPooling2D(pool_size=(2,2)))\n",
        "model.add(Flatten())\n",
        "model.add(Dense(64))\n",
        "model.add(Dense(10))\n",
        "model.add(Activation('softmax'))\n",
        "\n",
        "model.compile(loss=keras.losses.categorical_crossentropy,\n",
        "optimizer=keras.optimizers.Adam(),metrics=['accuracy'])\n",
        "model.fit(train_X, train_Y_one_hot, batch_size=64, epochs=5)\n",
        "test_loss, test_acc = model.evaluate(test_X, test_Y_one_hot)\n",
        "print('Test loss', test_loss)\n",
        "print('Test accuracy', test_acc)\n",
        "predictions = model.predict(test_X)\n",
        "print(np.argmax(np.round(predictions[0])))\n",
        "plt.imshow(test_X[0].reshape(28, 28), cmap = plt.cm.binary)\n",
        "plt.show()"
      ],
      "metadata": {
        "id": "zhAWcfUFZh4O"
      },
      "execution_count": null,
      "outputs": []
    },
    {
      "cell_type": "markdown",
      "source": [
        "**Model with L1 Regularization**"
      ],
      "metadata": {
        "id": "hUMjjOtQdokt"
      }
    },
    {
      "cell_type": "code",
      "source": [
        "# L1 Regularizer\n",
        "import keras\n",
        "from keras.datasets import cifar10\n",
        "from keras.layers import Dense, Activation, Flatten, Conv2D, MaxPooling2D\n",
        "from keras.models import Sequential\n",
        "from keras.regularizers import l1\n",
        "from keras.utils import to_categorical\n",
        "import numpy as np\n",
        "import matplotlib.pyplot as plt\n",
        "(train_X,train_Y), (test_X,test_Y) = cifar10.load_data()\n",
        "train_X = train_X.reshape(-1, 28,28, 1)\n",
        "test_X = test_X.reshape(-1, 28,28, 1)\n",
        "train_X = train_X.astype('float32')\n",
        "test_X = test_X.astype('float32')\n",
        "train_X = train_X / 255\n",
        "test_X = test_X / 255\n",
        "train_Y_one_hot = to_categorical(train_Y)\n",
        "test_Y_one_hot = to_categorical(test_Y)\n",
        "model = Sequential()\n",
        "model.add(Conv2D(256,(3,3),input_shape=(28, 28, 1),kernel_regularizer=l1(0.01)))\n",
        "model.add(Activation('relu'))\n",
        "model.add(MaxPooling2D(pool_size=(2,2)))\n",
        "model.add(Conv2D(128, (3,3),kernel_regularizer=l1(0.01)))\n",
        "model.add(Activation('relu'))\n",
        "model.add(MaxPooling2D(pool_size=(2,2)))"
      ],
      "metadata": {
        "id": "4alp8w4pdx_w"
      },
      "execution_count": null,
      "outputs": []
    },
    {
      "cell_type": "markdown",
      "source": [
        "**Model with L2 Regularization**"
      ],
      "metadata": {
        "id": "3t_wnWn1ea9f"
      }
    },
    {
      "cell_type": "code",
      "source": [
        "# L2 regularizer\n",
        "import keras\n",
        "from keras.datasets import cifar10\n",
        "from keras.layers import Dense, Activation, Flatten, Conv2D, MaxPooling2D\n",
        "from keras.models import Sequential\n",
        "from keras.regularizers import l2\n",
        "from keras.utils import to_categorical\n",
        "import numpy as np\n",
        "import matplotlib.pyplot as plt\n",
        "(train_X,train_Y), (test_X,test_Y) = cifar10.load_data()\n",
        "train_X = train_X.reshape(-1, 28,28, 1)\n",
        "\n",
        "test_X = test_X.reshape(-1, 28,28, 1)\n",
        "train_X = train_X.astype('float32')\n",
        "test_X = test_X.astype('float32')\n",
        "train_X = train_X / 255\n",
        "test_X = test_X / 255\n",
        "train_Y_one_hot = to_categorical(train_Y)\n",
        "test_Y_one_hot = to_categorical(test_Y)\n",
        "model = Sequential()\n",
        "model.add(Conv2D(256,(3,3),input_shape=(28,28,1), kernel_regularizer=l2(0.01)))\n",
        "model.add(Activation('relu'))\n",
        "model.add(MaxPooling2D(pool_size=(2,2)))\n",
        "model.add(Conv2D(128, (3,3),))\n",
        "\n",
        "#kernel_regularizer=l2(0.01)\n",
        "model.add(Activation('relu'))\n",
        "model.add(MaxPooling2D(pool_size=(2,2)))\n",
        "model.add(Conv2D(64, (3,3), input_shape=(28, 28, 1),))\n",
        "#kernel_regularizer=l2(0.01)\n",
        "\n",
        "\n",
        "model.add(Activation('relu'))\n",
        "#model.add(MaxPooling2D(pool_size=(2,2)))\n",
        "model.add(Conv2D(28, (3,3),))\n",
        "\n",
        "#kernel_regularizer=l2(0.01)\n",
        "\n",
        "\n",
        "model.add(Activation('relu'))\n",
        "#model.add(MaxPooling2D(pool_size=(2,2)))\n",
        "model.add(Flatten())\n",
        "model.add(Dense(64))\n",
        "model.add(Dense(10))\n",
        "model.add(Activation('softmax'))\n",
        "model.compile(loss=keras.losses.categorical_crossentropy,optimizer=keras.optimizers.Adam(),metrics=['accuracy'])\n",
        "model.fit(train_X, train_Y_one_hot, epochs=5)\n",
        "test_loss, test_acc = model.evaluate(test_X, test_Y_one_hot)\n",
        "print('Test loss', test_loss)\n",
        "print('Test accuracy', test_acc)"
      ],
      "metadata": {
        "id": "EWjfwWAgeiDX"
      },
      "execution_count": null,
      "outputs": []
    },
    {
      "cell_type": "markdown",
      "source": [
        "**Model with Dropout**"
      ],
      "metadata": {
        "id": "Ktq17-7NfZtE"
      }
    },
    {
      "cell_type": "code",
      "source": [
        "#Dropout\n",
        "import keras\n",
        "from keras.datasets import cifar10\n",
        "from keras.layers import Dense, Activation, Flatten, Conv2D, MaxPooling2D, Dropout\n",
        "from keras.models import Sequential\n",
        "from keras.utils import to_categorical\n",
        "import numpy as np\n",
        "import matplotlib.pyplot as plt\n",
        "(train_X,train_Y), (test_X,test_Y) = cifar10.load_data()\n",
        "train_X = train_X.reshape(-1, 28,28, 1)\n",
        "test_X = test_X.reshape(-1, 28,28, 1)\n",
        "train_X = train_X.astype('float32')\n",
        "test_X = test_X.astype('float32')\n",
        "train_X = train_X / 255\n",
        "test_X = test_X / 255\n",
        "train_Y_one_hot = to_categorical(train_Y)\n",
        "test_Y_one_hot = to_categorical(test_Y)\n",
        "model = Sequential()\n",
        "model.add(Conv2D(256, (3,3), input_shape=(28, 28, 1)))\n",
        "model.add(Activation('relu'))\n",
        "model.add(MaxPooling2D(pool_size=(2,2)))\n",
        "Dropout(0.20)\n",
        "model.add(Conv2D(128, (3,3)))\n",
        "model.add(Activation('relu'))\n",
        "model.add(MaxPooling2D(pool_size=(2,2)))\n",
        "#Dropout(0.20)\n",
        "model.add(Conv2D(64, (3,3), input_shape=(28, 28, 1)))\n",
        "model.add(Activation('relu'))\n",
        "#model.add(MaxPooling2D(pool_size=(2,2)))\n",
        "#Dropout(0.20)\n",
        "model.add(Conv2D(28, (3,3)))\n",
        "model.add(Activation('relu'))\n",
        "predictions = model.predict(test_X)\n",
        "print(np.argmax(np.round(predictions[0])))\n",
        "plt.imshow(test_X[0].reshape(28, 28), cmap = plt.cm.binary)\n",
        "plt.show()"
      ],
      "metadata": {
        "id": "-SubxR6Afhba"
      },
      "execution_count": null,
      "outputs": []
    },
    {
      "cell_type": "markdown",
      "source": [
        "**Model with both L2 (or L1) and Dropout**"
      ],
      "metadata": {
        "id": "h4gGjsWLgIho"
      }
    },
    {
      "cell_type": "code",
      "source": [
        "# L2 regularizer and Dropout\n",
        "import keras\n",
        "from keras.datasets import cifar10\n",
        "from keras.layers import Dense, Activation, Flatten, Conv2D, MaxPooling2D\n",
        "from keras.models import Sequential\n",
        "from keras.regularizers import l2\n",
        "from keras.utils import to_categorical\n",
        "import numpy as np\n",
        "import matplotlib.pyplot as plt\n",
        "(train_X,train_Y), (test_X,test_Y) = cifar10.load_data()\n",
        "train_X = train_X.reshape(-1, 28,28, 1)\n",
        "test_X = test_X.reshape(-1, 28,28, 1)\n",
        "train_X = train_X.astype('float32')\n",
        "test_X = test_X.astype('float32')\n",
        "train_X = train_X / 255\n",
        "test_X = test_X / 255\n",
        "train_Y_one_hot = to_categorical(train_Y)\n",
        "test_Y_one_hot = to_categorical(test_Y)\n",
        "\n",
        "R-20\n",
        "\n",
        "model = Sequential()\n",
        "model.add(Conv2D(256, (3,3), input_shape=(28, 28, 1), kernel_regularizer=l2(0.01)))\n",
        "model.add(Activation('relu'))\n",
        "model.add(MaxPooling2D(pool_size=(2,2)))\n",
        "Dropout(0.20)\n",
        "\n",
        "model.add(Conv2D(128, (3,3),\n",
        "\n",
        "#kernel_regularizer=l2(0.01)\n",
        "\n",
        "))\n",
        "model.add(Activation('relu'))\n",
        "model.add(MaxPooling2D(pool_size=(2,2)))\n",
        "model.add(Conv2D(64, (3,3), input_shape=(28, 28, 1),))\n",
        "#kernel_regularizer=l2(0.01)\n",
        "\n",
        "\n",
        "model.add(Activation('relu'))\n",
        "#model.add(MaxPooling2D(pool_size=(2,2)))\n",
        "model.add(Conv2D(28, (3,3),))\n",
        "\n",
        "#kernel_regularizer=l2(0.01)\n",
        "\n",
        "\n",
        "model.add(Activation('relu'))\n",
        "#model.add(MaxPooling2D(pool_size=(2,2)))\n",
        "model.add(Flatten())\n",
        "model.add(Dense(64))\n",
        "model.add(Dense(10))\n",
        "model.add(Activation('softmax'))\n",
        "model.compile(loss=keras.losses.categorical_crossentropy,optimizer=keras.optimizers.Adam(),metrics=['accuracy'])\n",
        "model.fit(train_X, train_Y_one_hot, epochs=5)\n",
        "test_loss, test_acc = model.evaluate(test_X, test_Y_one_hot)\n",
        "print('Test loss', test_loss)\n",
        "print('Test accuracy', test_acc)\n",
        "predictions = model.predict(test_X)\n",
        "print(np.argmax(np.round(predictions[0])))\n",
        "plt.imshow(test_X[0].reshape(28, 28), cmap = plt.cm.binary)\n",
        "plt.show()"
      ],
      "metadata": {
        "id": "KYRMSgwOgXAM"
      },
      "execution_count": null,
      "outputs": []
    }
  ]
}